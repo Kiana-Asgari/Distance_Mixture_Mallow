{
 "cells": [
  {
   "cell_type": "code",
   "execution_count": 17,
   "id": "f6fede49-443f-4151-aadc-1bae9fe47503",
   "metadata": {},
   "outputs": [],
   "source": [
    "import Generalized_Mallow_Learning.football.load_football as ft\n"
   ]
  },
  {
   "cell_type": "code",
   "execution_count": 38,
   "id": "5c000a17-791c-427d-8d02-476586a302fa",
   "metadata": {},
   "outputs": [],
   "source": [
    "ans = ft.load_data(100)"
   ]
  },
  {
   "cell_type": "code",
   "execution_count": 37,
   "id": "3b69747f-75bc-4ff6-a86a-be537ddc03ba",
   "metadata": {},
   "outputs": [
    {
     "data": {
      "text/plain": [
       "array(['UCF', 'New Mexico', 'Miami OH', 'Tulane', 'Rutgers', 'Nebraska',\n",
       "       'Notre Dame', 'Georgia', 'UNLV', 'Boston College', 'Oregon',\n",
       "       'Mississippi', 'W Michigan', 'Illinois'], dtype='<U14')"
      ]
     },
     "execution_count": 37,
     "metadata": {},
     "output_type": "execute_result"
    }
   ],
   "source": [
    "np.array(ans[0])[desired_teams]"
   ]
  },
  {
   "cell_type": "code",
   "execution_count": 39,
   "id": "d79bc93c-3416-4348-892e-34f778db31aa",
   "metadata": {},
   "outputs": [],
   "source": [
    "import numpy as np\n",
    "top_teams=ft.get_top_teams(ans[0],ans[1])"
   ]
  },
  {
   "cell_type": "code",
   "execution_count": 40,
   "id": "90249f23-f0a9-4057-847e-a9a58ea668ee",
   "metadata": {},
   "outputs": [
    {
     "data": {
      "text/plain": [
       "array([ 59, 105,  35,  85,   3,  20,  30,  22,  33,  70,  51,  49,  42,\n",
       "        56,  29,  60,  37,  31,   4,  44,  41,  65, 108,  25, 102,  69,\n",
       "        75,  43,  27,  91,  58,  24,  53,  95,  98,  80, 113, 164, 225,\n",
       "         0])"
      ]
     },
     "execution_count": 40,
     "metadata": {},
     "output_type": "execute_result"
    }
   ],
   "source": [
    "top_teams"
   ]
  },
  {
   "cell_type": "code",
   "execution_count": 41,
   "id": "9798d1c1-4002-41ed-89fb-a79447b56bca",
   "metadata": {},
   "outputs": [],
   "source": [
    "desired_teams = 1+np.concatenate([top_teams[1:10], top_teams[-10:-5]])\n",
    "football_data = ft.get_full_rankings(ans[0], ans[1], which_team_to_keep = desired_teams)"
   ]
  },
  {
   "cell_type": "code",
   "execution_count": 30,
   "id": "73e647c4-345d-4921-8723-b53bd65e69df",
   "metadata": {},
   "outputs": [
    {
     "data": {
      "text/plain": [
       "array([[ 0,  1,  2,  4,  3,  7,  5,  6,  8, 11, 10, 12,  9, 13],\n",
       "       [ 0,  1,  7,  3,  2,  5,  4,  6,  8, 11, 13, 10,  9, 12],\n",
       "       [ 2,  0,  1,  4,  5,  3,  6,  7,  8,  9, 12, 11, 10, 13],\n",
       "       [ 0,  1,  2,  5,  4,  7,  3,  6,  8, 11, 13,  9, 10, 12],\n",
       "       [ 0,  4,  7,  1,  2,  3,  5,  8,  6,  9, 13, 12, 11, 10],\n",
       "       [ 0,  1,  2,  3,  4,  5,  7,  6,  8, 11,  9, 10, 12, 13],\n",
       "       [ 2,  1,  0,  3,  4,  5,  7,  6,  8, 10, 12, 11,  9, 13],\n",
       "       [ 0,  4,  5,  1,  2,  3,  6,  8,  7, 10,  9, 11, 12, 13],\n",
       "       [ 0,  1,  3,  7,  2,  6,  4,  5,  8, 11,  9, 12, 10, 13],\n",
       "       [ 0,  1,  2,  3,  4,  7,  5,  6,  8, 11,  9, 12, 10, 13],\n",
       "       [ 0,  1,  7,  3,  4,  2,  6,  5,  8, 11,  9, 13, 12, 10],\n",
       "       [ 0,  1,  2,  3,  7,  4,  6,  5,  8, 11,  9, 10, 13, 12],\n",
       "       [ 2,  1,  0,  3,  5,  4,  6,  8,  7, 12,  9, 13, 10, 11],\n",
       "       [ 0,  1,  2,  3,  5,  4,  7,  8,  6, 12, 11,  9, 10, 13],\n",
       "       [ 0,  1,  2,  3,  4,  5,  6,  7,  8, 11,  9, 10, 12, 13],\n",
       "       [ 0,  1,  2,  3,  4,  5,  7,  6,  8, 11, 12, 10,  9, 13],\n",
       "       [ 0,  2,  1,  3,  4,  5,  7,  6,  8, 11, 10,  9, 13, 12],\n",
       "       [ 0,  1,  2,  4,  7,  3,  5,  8,  6,  9, 11, 10, 12, 13],\n",
       "       [ 0,  1,  7,  3,  2,  4,  8,  5,  6, 10, 11, 12,  9, 13],\n",
       "       [ 1,  2,  5,  0,  3,  6,  8,  4,  7, 12,  9, 13, 11, 10],\n",
       "       [ 0,  1,  4,  3,  2,  7,  5,  6,  8, 11, 12,  9, 10, 13],\n",
       "       [ 0,  1,  7,  3,  8,  2,  4,  5,  6, 10, 11, 13,  9, 12],\n",
       "       [ 0,  1,  2,  3,  4,  5,  6,  7,  8,  9, 11, 10, 13, 12],\n",
       "       [ 0,  1,  2,  3,  7,  4,  5,  6,  8, 11,  9, 10, 12, 13],\n",
       "       [ 2,  0,  1,  3,  4,  5,  6,  7,  8, 10,  9, 12, 11, 13],\n",
       "       [ 0,  1,  7,  3,  4,  8,  6,  2,  5, 10, 13,  9, 11, 12],\n",
       "       [ 0,  2,  1,  3,  4,  5,  7,  6,  8,  9, 11, 12, 13, 10],\n",
       "       [ 0,  3,  2,  1,  4,  5,  7,  8,  6,  9, 11, 10, 12, 13],\n",
       "       [ 0,  1,  7,  3,  4,  2,  5,  6,  8, 13, 12,  9, 11, 10],\n",
       "       [ 0,  2,  1,  3,  4,  5,  7,  6,  8,  9, 11, 10, 12, 13],\n",
       "       [ 2,  1,  0,  4,  3,  5,  6,  7,  8, 10, 11,  9, 12, 13],\n",
       "       [ 0,  1,  2,  3,  5,  4,  7,  6,  8, 11,  9, 10, 12, 13],\n",
       "       [ 0,  1,  2,  3,  4,  5,  7,  6,  8, 11,  9, 10, 12, 13],\n",
       "       [ 0,  3,  2,  1,  4,  7,  5,  8,  6,  9, 11, 10, 12, 13],\n",
       "       [ 0,  1,  2,  3,  5,  7,  4,  6,  8, 11,  9, 10, 12, 13],\n",
       "       [ 1,  2,  0,  3,  5,  4,  7,  8,  6, 11,  9, 10, 13, 12],\n",
       "       [ 0,  3,  1,  2,  5,  4,  7,  8,  6, 10, 11, 12,  9, 13],\n",
       "       [ 0,  3,  1,  4,  5,  2,  7,  8,  6, 10,  9, 11, 13, 12],\n",
       "       [ 2,  1,  0,  5,  3,  4,  6,  7,  8,  9, 11, 10, 13, 12],\n",
       "       [ 0,  1,  3,  2,  4,  7,  6,  5,  8, 11,  9, 13, 12, 10]])"
      ]
     },
     "execution_count": 30,
     "metadata": {},
     "output_type": "execute_result"
    }
   ],
   "source": [
    "football_data"
   ]
  },
  {
   "cell_type": "code",
   "execution_count": null,
   "id": "fa8d854c-fb74-4203-af03-3a001e6e79c1",
   "metadata": {},
   "outputs": [],
   "source": []
  }
 ],
 "metadata": {
  "kernelspec": {
   "display_name": "Python 3 (ipykernel)",
   "language": "python",
   "name": "python3"
  },
  "language_info": {
   "codemirror_mode": {
    "name": "ipython",
    "version": 3
   },
   "file_extension": ".py",
   "mimetype": "text/x-python",
   "name": "python",
   "nbconvert_exporter": "python",
   "pygments_lexer": "ipython3",
   "version": "3.13.2"
  }
 },
 "nbformat": 4,
 "nbformat_minor": 5
}
