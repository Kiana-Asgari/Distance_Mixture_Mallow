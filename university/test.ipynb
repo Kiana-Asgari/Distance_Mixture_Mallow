{
 "cells": [
  {
   "cell_type": "code",
   "execution_count": 1,
   "id": "24d65d59-2e84-46e7-a01b-a50cd493c4f3",
   "metadata": {},
   "outputs": [],
   "source": [
    "from load_university import load_data"
   ]
  },
  {
   "cell_type": "code",
   "execution_count": 8,
   "id": "c8a8e980-b1f4-4ab4-9a88-6911350316c6",
   "metadata": {},
   "outputs": [
    {
     "name": "stdout",
     "output_type": "stream",
     "text": [
      "Stanford found at unified index: 17, Team name: Stanford University\n",
      "Stanford was ranked in the top 5 a total of 48 times out of 74 total rankings.\n"
     ]
    }
   ],
   "source": [
    "teams, votes_dict = load_data(limit=10)\n",
    "\n",
    "# Get Harvard's unified index\n",
    "harvard_index = None\n",
    "for idx, team in enumerate(teams):\n",
    "    if 'Stanford' in team:\n",
    "        harvard_index = idx + 1  # unified indexing starts from 1\n",
    "        print(f\"Stanford found at unified index: {harvard_index}, Team name: {team}\")\n",
    "        break\n",
    "\n",
    "if harvard_index is None:\n",
    "    print(\"Stanford not found in the dataset.\")\n",
    "else:\n",
    "    # Count occurrences in top 3\n",
    "    top3_count = 0\n",
    "    total_votes = 0\n",
    "    for votes in votes_dict.values():\n",
    "        for vote in votes:\n",
    "            total_votes += 1\n",
    "            if harvard_index in vote[:5]:\n",
    "                top3_count += 1\n",
    "\n",
    "    print(f\"Stanford was ranked in the top 5 a total of {top3_count} times out of {total_votes} total rankings.\")"
   ]
  },
  {
   "cell_type": "code",
   "execution_count": 15,
   "id": "6b8a43ec-cb99-4ad1-aa06-659abb63101f",
   "metadata": {},
   "outputs": [
    {
     "data": {
      "text/plain": [
       "array([ 7, 16, 23, 26, 38, 29, 37, 44, 36, 27, 12,  8, 18, 35, 15, 42, 11,\n",
       "       40, 22, 46])"
      ]
     },
     "execution_count": 15,
     "metadata": {},
     "output_type": "execute_result"
    }
   ],
   "source": [
    "get_top_teams_borda(teams, votes_dict, top_n=20)"
   ]
  },
  {
   "cell_type": "code",
   "execution_count": 16,
   "id": "7ebe8454-4c27-4d18-b64e-4c92c456dc09",
   "metadata": {},
   "outputs": [
    {
     "name": "stdout",
     "output_type": "stream",
     "text": [
      "Stanford found in top 20 teams at position 1 (team name: Stanford University)\n",
      "Stanford was ranked in the top 3 a total of 44 times out of 55 rankings.\n"
     ]
    }
   ],
   "source": [
    "from load_university import*\n",
    "# Load data\n",
    "teams, votes_dict = load_data(limit=10)\n",
    "\n",
    "# 1. Get top 20 teams using provided function\n",
    "top_team_indices = get_top_teams_borda(teams, votes_dict, top_n=20)\n",
    "\n",
    "# 2. Extract full rankings over these top 20 teams\n",
    "full_rankings = get_full_rankings(teams, votes_dict, which_team_to_keep=top_team_indices[:10])\n",
    "\n",
    "# 3. Identify Harvard's index in the top_team_indices\n",
    "harvard_index_in_top20 = None\n",
    "for i, idx in enumerate(top_team_indices):\n",
    "    if 'Stanford' in teams[idx]:\n",
    "        harvard_index_in_top20 = i\n",
    "        print(f\"Stanford found in top 20 teams at position {harvard_index_in_top20} (team name: {teams[idx]})\")\n",
    "        break\n",
    "\n",
    "if harvard_index_in_top20 is None:\n",
    "    print(\"Stanford not found among top 20 teams.\")\n",
    "else:\n",
    "    # 4. Count how many times Harvard is ranked top 3\n",
    "    top_3_counts = np.sum(full_rankings[:, :5] == harvard_index_in_top20)\n",
    "    total_rankings = full_rankings.shape[0]\n",
    "\n",
    "    print(f\"Stanford was ranked in the top 3 a total of {top_3_counts} times out of {total_rankings} rankings.\")\n"
   ]
  },
  {
   "cell_type": "code",
   "execution_count": 13,
   "id": "0036f2c9-bebb-4134-88c6-6401e54c4742",
   "metadata": {},
   "outputs": [],
   "source": [
    "\n",
    "full_rankings = get_full_rankings(teams, votes_dict, which_team_to_keep=top_team_indices)"
   ]
  },
  {
   "cell_type": "code",
   "execution_count": 5,
   "id": "880262f3-1c5d-4e18-a8e3-7d157cb238d1",
   "metadata": {},
   "outputs": [
    {
     "data": {
      "text/plain": [
       "array([ 7, 16, 23, 26, 38, 29, 37, 44, 36, 27])"
      ]
     },
     "execution_count": 5,
     "metadata": {},
     "output_type": "execute_result"
    }
   ],
   "source": [
    "top_team_indices[:10]"
   ]
  },
  {
   "cell_type": "code",
   "execution_count": 24,
   "id": "0799b18c-fe8a-4ad7-a8a9-1fdf815cff9d",
   "metadata": {},
   "outputs": [
    {
     "name": "stdout",
     "output_type": "stream",
     "text": [
      "10\n"
     ]
    }
   ],
   "source": [
    "which_team_to_keep = top_team_indices[:10]\n",
    "print(len(which_team_to_keep))"
   ]
  },
  {
   "cell_type": "code",
   "execution_count": 26,
   "id": "a0561758-9690-4298-830c-858fd42fff97",
   "metadata": {},
   "outputs": [
    {
     "name": "stdout",
     "output_type": "stream",
     "text": [
      "10\n",
      "10\n",
      "10\n",
      "10\n",
      "10\n",
      "10\n",
      "10\n",
      "10\n",
      "10\n",
      "10\n",
      "10\n",
      "10\n",
      "10\n",
      "10\n",
      "10\n",
      "9\n",
      "10\n",
      "9\n",
      "9\n",
      "8\n",
      "9\n",
      "9\n",
      "9\n",
      "8\n",
      "8\n",
      "9\n",
      "8\n",
      "8\n",
      "8\n",
      "9\n",
      "8\n",
      "8\n",
      "8\n",
      "9\n",
      "8\n",
      "8\n",
      "10\n",
      "10\n",
      "10\n",
      "10\n",
      "10\n",
      "10\n",
      "10\n",
      "10\n",
      "10\n",
      "10\n",
      "10\n",
      "10\n",
      "10\n",
      "10\n",
      "10\n",
      "10\n",
      "10\n",
      "10\n",
      "10\n",
      "10\n",
      "10\n",
      "10\n",
      "10\n",
      "10\n",
      "10\n",
      "10\n",
      "10\n",
      "10\n",
      "10\n",
      "10\n",
      "10\n",
      "10\n",
      "10\n",
      "10\n",
      "10\n",
      "10\n",
      "10\n",
      "10\n"
     ]
    }
   ],
   "source": [
    "    for key in votes_dict.keys():\n",
    "        _votes = np.array(votes_dict[key])\n",
    "\n",
    "        for vote in _votes:\n",
    "\n",
    "            # Filter the vote to only include teams in which_team_to_keep\n",
    "            filtered_vote = [team for team in vote if team in which_team_to_keep]\n",
    "            # Create a mapping from original team indices to new indices\n",
    "            # print(len(adjusted_vote))\n",
    "            team_to_new_index = {team: i for i, team in enumerate(which_team_to_keep)}\n",
    "            \n",
    "            # Adjust the filtered vote to be a ranking from 0 to len(which_team_to_keep) - 1\n",
    "            adjusted_vote = [team_to_new_index[team] for team in filtered_vote]\n",
    "            print(len(adjusted_vote))"
   ]
  },
  {
   "cell_type": "code",
   "execution_count": null,
   "id": "9f31ecf6-aa31-48e5-bcf9-4ce40301dc2f",
   "metadata": {},
   "outputs": [],
   "source": []
  }
 ],
 "metadata": {
  "kernelspec": {
   "display_name": "Python 3.12 (ipykernel)",
   "language": "python",
   "name": "python3.12"
  },
  "language_info": {
   "codemirror_mode": {
    "name": "ipython",
    "version": 3
   },
   "file_extension": ".py",
   "mimetype": "text/x-python",
   "name": "python",
   "nbconvert_exporter": "python",
   "pygments_lexer": "ipython3",
   "version": "3.12.2"
  }
 },
 "nbformat": 4,
 "nbformat_minor": 5
}
